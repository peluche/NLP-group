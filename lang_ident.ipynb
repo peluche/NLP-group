{
 "cells": [
  {
   "cell_type": "markdown",
   "id": "d6af3c1e",
   "metadata": {},
   "source": [
    "# language classifier"
   ]
  },
  {
   "cell_type": "markdown",
   "id": "d4aac5a8",
   "metadata": {},
   "source": [
    "## setup"
   ]
  },
  {
   "cell_type": "code",
   "execution_count": 356,
   "id": "a1619473-5f99-4fcf-9517-16489b83c357",
   "metadata": {},
   "outputs": [],
   "source": [
    "import math\n",
    "import random\n",
    "import torch\n",
    "import torch.nn as nn\n",
    "import torch.nn.functional as F\n",
    "import matplotlib.pyplot as plt\n",
    "\n",
    "device = 'cuda' if torch.cuda.is_available() else 'cpu'"
   ]
  },
  {
   "cell_type": "markdown",
   "id": "3d5c38c5",
   "metadata": {},
   "source": [
    "## data"
   ]
  },
  {
   "cell_type": "code",
   "execution_count": 357,
   "id": "dda632be",
   "metadata": {},
   "outputs": [],
   "source": [
    "langs = ['de', 'en', 'es', 'fr', 'it']\n",
    "ltoi = {l: i for i, l in enumerate(langs)}\n",
    "itol = {i: l for i, l in enumerate(langs)}\n",
    "\n",
    "def loadtext(lang):\n",
    "    with open(f'./langid/sentences.{lang}.txt', encoding='utf8') as f:\n",
    "        text = f.read()\n",
    "    return text\n",
    "\n",
    "raw_texts = {lang: loadtext(lang) for lang in langs}\n",
    "alphabet = set(''.join(raw_texts.values()))\n",
    "stoi = {c: i for i, c in enumerate(alphabet)}\n",
    "vocab_size = len(alphabet)"
   ]
  },
  {
   "cell_type": "code",
   "execution_count": 358,
   "id": "a30c800f",
   "metadata": {},
   "outputs": [],
   "source": [
    "chunk_size = 1024\n",
    "# ws = '\\n'.join(raw_texts.values()).split('\\n')\n",
    "# chunk_size = len(max(ws, key=len))\n",
    "\n",
    "def to_tokens(text):\n",
    "    return torch.tensor([stoi[c] for c in text])\n",
    "\n",
    "def chunk(text, chunk_size):\n",
    "    res = []\n",
    "    for t in text.split('\\n'):\n",
    "        t = t[:chunk_size]\n",
    "        t += '\\n' * (chunk_size - len(t))\n",
    "        res.append(to_tokens(t))\n",
    "    return res\n",
    "\n",
    "xs = []\n",
    "for land, text in raw_texts.items():\n",
    "    cs = chunk(text, chunk_size)\n",
    "    ls = torch.tensor([ltoi[land]] * len(cs))\n",
    "    xs.extend(zip(cs, ls))\n",
    "random.shuffle(xs)\n",
    "\n",
    "train = xs[:int(len(xs) * 0.8)]\n",
    "test = xs[int(len(xs) * 0.8):]\n",
    "\n",
    "x, y = zip(*train)\n",
    "x, y = torch.stack(x), torch.stack(y)\n",
    "\n",
    "xt, yt = zip(*test)\n",
    "xt, yt = torch.stack(xt), torch.stack(yt)\n",
    "\n",
    "data = torch.utils.data.DataLoader(\n",
    "    torch.utils.data.TensorDataset(x, y),\n",
    "    batch_size=128,\n",
    "    shuffle=True)\n",
    "\n",
    "data_test = torch.utils.data.DataLoader(\n",
    "    torch.utils.data.TensorDataset(xt, yt),\n",
    "    batch_size=128,\n",
    "    shuffle=True)"
   ]
  },
  {
   "cell_type": "markdown",
   "id": "0dadba3c",
   "metadata": {},
   "source": [
    "## by hand (character level)"
   ]
  },
  {
   "cell_type": "code",
   "execution_count": 359,
   "id": "50104679",
   "metadata": {},
   "outputs": [],
   "source": [
    "class Toy(nn.Module):\n",
    "    def __init__(self, vocab_size, max_seq_length, embedding_dim=16, hidden_dim=128):\n",
    "        super().__init__()\n",
    "        self.token_embedding = torch.nn.Embedding(vocab_size, embedding_dim)\n",
    "        self.positional_encoding = self.create_positional_encoding(max_seq_length, embedding_dim)\n",
    "        self.mlp = nn.Sequential(\n",
    "            nn.LayerNorm(embedding_dim),\n",
    "            nn.Linear(embedding_dim, hidden_dim),\n",
    "            nn.ReLU(),\n",
    "            nn.LayerNorm(hidden_dim),\n",
    "            nn.Linear(hidden_dim, hidden_dim),\n",
    "            nn.ReLU(),\n",
    "            nn.LayerNorm(hidden_dim),\n",
    "            nn.Linear(hidden_dim, hidden_dim),\n",
    "            nn.ReLU(),\n",
    "            nn.LayerNorm(hidden_dim),\n",
    "            nn.Linear(hidden_dim, embedding_dim),\n",
    "        )\n",
    "        self.head = nn.Sequential(\n",
    "            nn.LayerNorm(embedding_dim),\n",
    "            nn.Linear(embedding_dim, hidden_dim),\n",
    "            nn.ReLU(),\n",
    "            nn.LayerNorm(hidden_dim),\n",
    "            nn.Linear(hidden_dim, hidden_dim),\n",
    "            nn.ReLU(),\n",
    "            nn.LayerNorm(hidden_dim),\n",
    "            nn.Linear(hidden_dim, len(langs)),\n",
    "        )\n",
    "        self.learned_pooling = nn.Linear(max_seq_length * embedding_dim, embedding_dim)\n",
    "        self.lrn_drp_pooling = nn.Sequential(\n",
    "            nn.Dropout(p=0.9),\n",
    "            nn.Linear(max_seq_length * embedding_dim, embedding_dim),\n",
    "        )\n",
    "\n",
    "    def create_positional_encoding(self, max_seq_length, embedding_dim):\n",
    "        position = torch.arange(max_seq_length).unsqueeze(1)\n",
    "        div_term = torch.exp(torch.arange(0, embedding_dim, 2) * -(math.log(10000.0) / embedding_dim))\n",
    "        positional_encoding = torch.zeros(max_seq_length, embedding_dim)\n",
    "        positional_encoding[:, 0::2] = torch.sin(position * div_term)\n",
    "        positional_encoding[:, 1::2] = torch.cos(position * div_term)\n",
    "        return positional_encoding.to(device)\n",
    "\n",
    "    def forward(self, x):\n",
    "        token_embeddings = self.token_embedding(x)\n",
    "        pos_token = token_embeddings + self.positional_encoding\n",
    "        pos_token = self.mlp(pos_token)\n",
    "        # pooling                                  # accuracy on train/test\n",
    "        # =================================================================\n",
    "        # pos_token = pos_token.mean(dim=1)        # 96/94\n",
    "        # pos_token = pos_token.max(dim=1).values  # 99/91\n",
    "        # pos_token = pos_token.sum(dim=1)         # 97/95\n",
    "        pos_token = pos_token.std(dim=1)           # 99/96\n",
    "        # pos_token = pos_token.min(dim=1).values  # 99/92\n",
    "        # pos_token = self.learned_pooling(pos_token.view(pos_token.shape[0], -1))  # 98/88\n",
    "        # pos_token = self.lrn_drp_pooling(pos_token.view(pos_token.shape[0], -1))  # 0.2@99/91 0.5@98/92 0.9@87/84\n",
    "\n",
    "        logits = self.head(pos_token)\n",
    "        return logits"
   ]
  },
  {
   "cell_type": "code",
   "execution_count": 360,
   "id": "934730c2",
   "metadata": {},
   "outputs": [],
   "source": [
    "@torch.no_grad()\n",
    "def eval_loss(model, dataset):\n",
    "    losses = []\n",
    "    accs = []\n",
    "    size = 0\n",
    "    for x, y in dataset:\n",
    "        size += x.shape[0]\n",
    "        x, y = x.to(device), y.to(device)\n",
    "        logits = model(x)\n",
    "        loss = F.cross_entropy(logits, y)\n",
    "        losses.append(loss)\n",
    "        accs.append((logits.argmax(dim=-1) == y).float().sum())\n",
    "    return torch.stack(losses).mean().item(), torch.stack(accs).sum() / size"
   ]
  },
  {
   "cell_type": "code",
   "execution_count": 361,
   "id": "a5b54cd2",
   "metadata": {},
   "outputs": [
    {
     "name": "stdout",
     "output_type": "stream",
     "text": [
      "train accuracy: 0.9973763227462769\n",
      "valid accuracy: 0.963018536567688\n"
     ]
    },
    {
     "data": {
      "image/png": "[encoded data removed]",
      "text/plain": [
       "<Figure size 640x480 with 1 Axes>"
      ]
     },
     "metadata": {},
     "output_type": "display_data"
    }
   ],
   "source": [
    "epochs = 100\n",
    "lr = 3e-4\n",
    "\n",
    "model = Toy(vocab_size, max_seq_length=chunk_size).to(device)\n",
    "optimizer = torch.optim.Adam(model.parameters(), lr=lr)\n",
    "losses, accs = [], []\n",
    "valid_losses, valid_accs = [], []\n",
    "\n",
    "for epoch in range(epochs):\n",
    "    for x, y in data:\n",
    "        x, y = x.to(device), y.to(device)\n",
    "        y_pred = model(x)\n",
    "        loss = F.cross_entropy(y_pred, y)\n",
    "        # backprop\n",
    "        optimizer.zero_grad()\n",
    "        loss.backward()\n",
    "        optimizer.step()\n",
    "    # expensive stats\n",
    "    l, a = eval_loss(model, data)\n",
    "    losses.append(l)\n",
    "    accs.append(a)\n",
    "    l, a = eval_loss(model, data_test)\n",
    "    valid_losses.append(l)\n",
    "    valid_accs.append(a)\n",
    "\n",
    "plt.plot(losses, label='train')\n",
    "plt.plot(valid_losses, label='valid')\n",
    "plt.legend()\n",
    "print(f'train accuracy: {accs[-1]}')\n",
    "print(f'valid accuracy: {valid_accs[-1]}')"
   ]
  }
 ],
 "metadata": {
  "kernelspec": {
   "display_name": "venv_hf_nlp",
   "language": "python",
   "name": "venv_hf_nlp"
  },
  "language_info": {
   "codemirror_mode": {
    "name": "ipython",
    "version": 3
   },
   "file_extension": ".py",
   "mimetype": "text/x-python",
   "name": "python",
   "nbconvert_exporter": "python",
   "pygments_lexer": "ipython3",
   "version": "3.11.2"
  }
 },
 "nbformat": 4,
 "nbformat_minor": 5
}
